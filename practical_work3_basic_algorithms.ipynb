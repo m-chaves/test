{
  "nbformat": 4,
  "nbformat_minor": 0,
  "metadata": {
    "colab": {
      "name": "practical_work3_basic_algorithms.ipynb",
      "provenance": [],
      "collapsed_sections": [],
      "include_colab_link": true
    },
    "kernelspec": {
      "name": "python3",
      "display_name": "Python 3"
    }
  },
  "cells": [
    {
      "cell_type": "markdown",
      "metadata": {
        "id": "view-in-github",
        "colab_type": "text"
      },
      "source": [
        "<a href=\"https://colab.research.google.com/github/m-chaves/test/blob/master/practical_work3_basic_algorithms.ipynb\" target=\"_parent\"><img src=\"https://colab.research.google.com/assets/colab-badge.svg\" alt=\"Open In Colab\"/></a>"
      ]
    },
    {
      "cell_type": "markdown",
      "metadata": {
        "id": "WyUA16GDz8oI",
        "colab_type": "text"
      },
      "source": [
        "[Defining a Dictionary\n",
        "](https://realpython.com/python-dicts/)\n",
        "\n",
        "Dictionaries are Python’s implementation of a data structure that is more generally known as an associative array. A dictionary consists of a collection of key-value pairs. Each key-value pair maps the key to its associated value.\n",
        "\n",
        "You can define a dictionary by enclosing a comma-separated list of key-value pairs in curly braces ({}). A colon (:) separates each key from its associated value:\n",
        "\n",
        "\n",
        "```\n",
        "d = {\n",
        "    <key>: <value>,\n",
        "    <key>: <value>,\n",
        "      .\n",
        "      .\n",
        "      .\n",
        "    <key>: <value>\n",
        "}\n",
        "```\n",
        "\n",
        "The following defines a dictionary that maps a value to the each name (rock,paper,scissors):\n"
      ]
    },
    {
      "cell_type": "code",
      "metadata": {
        "id": "yVGnhmlb1Aw7",
        "colab_type": "code",
        "colab": {}
      },
      "source": [
        "game_dict = {'rock': 1, 'scissors': 2, 'paper': 3}\n"
      ],
      "execution_count": null,
      "outputs": []
    },
    {
      "cell_type": "markdown",
      "metadata": {
        "id": "X0-LPvjH0-Av",
        "colab_type": "text"
      },
      "source": [
        "You can also construct a dictionary with the built-in dict() function. The argument to dict() should be a sequence of key-value pairs. A list of tuples works well for this:"
      ]
    },
    {
      "cell_type": "code",
      "metadata": {
        "id": "POiYTIvO1CLS",
        "colab_type": "code",
        "colab": {}
      },
      "source": [
        "game_dict = dict([\n",
        "    ('rock', 1),\n",
        "    ('paper', 3),\n",
        "    ('scissors',2)\n",
        "])"
      ],
      "execution_count": null,
      "outputs": []
    },
    {
      "cell_type": "markdown",
      "metadata": {
        "id": "-dxBFoaU1Q4T",
        "colab_type": "text"
      },
      "source": [
        "It can also be defined this way:"
      ]
    },
    {
      "cell_type": "markdown",
      "metadata": {
        "id": "PBRdMx_F1iZv",
        "colab_type": "text"
      },
      "source": [
        "If the key values are simple strings, they can be specified as keyword arguments. "
      ]
    },
    {
      "cell_type": "code",
      "metadata": {
        "id": "CzWdSt3t1lkJ",
        "colab_type": "code",
        "colab": {}
      },
      "source": [
        "game_dict = dict(paper=3,scissors=2,rock=1)"
      ],
      "execution_count": null,
      "outputs": []
    },
    {
      "cell_type": "markdown",
      "metadata": {
        "id": "k5ACO3t-2IKT",
        "colab_type": "text"
      },
      "source": [
        "The entries in the dictionary display in the order they were defined. But that is irrelevant when it comes to retrieving them. Dictionary elements are not accessed by numerical index:"
      ]
    },
    {
      "cell_type": "code",
      "metadata": {
        "id": "jtHApvNd2J40",
        "colab_type": "code",
        "colab": {
          "base_uri": "https://localhost:8080/",
          "height": 167
        },
        "outputId": "786a51de-619b-463c-cd93-f220ac920ec3"
      },
      "source": [
        "game_dict[1]"
      ],
      "execution_count": null,
      "outputs": [
        {
          "output_type": "error",
          "ename": "KeyError",
          "evalue": "ignored",
          "traceback": [
            "\u001b[0;31m---------------------------------------------------------------------------\u001b[0m",
            "\u001b[0;31mKeyError\u001b[0m                                  Traceback (most recent call last)",
            "\u001b[0;32m<ipython-input-5-68914be22fb2>\u001b[0m in \u001b[0;36m<module>\u001b[0;34m()\u001b[0m\n\u001b[0;32m----> 1\u001b[0;31m \u001b[0mgame_dict\u001b[0m\u001b[0;34m[\u001b[0m\u001b[0;36m1\u001b[0m\u001b[0;34m]\u001b[0m\u001b[0;34m\u001b[0m\u001b[0;34m\u001b[0m\u001b[0m\n\u001b[0m",
            "\u001b[0;31mKeyError\u001b[0m: 1"
          ]
        }
      ]
    },
    {
      "cell_type": "markdown",
      "metadata": {
        "id": "onMIYJi82PdB",
        "colab_type": "text"
      },
      "source": [
        "A value is retrieved from a dictionary by specifying its corresponding key in square brackets ([]):"
      ]
    },
    {
      "cell_type": "code",
      "metadata": {
        "id": "HMxnO0e22RGg",
        "colab_type": "code",
        "colab": {
          "base_uri": "https://localhost:8080/",
          "height": 34
        },
        "outputId": "7395e433-b7cd-4355-fc9b-3e1d897ddde4"
      },
      "source": [
        "game_dict['rock']"
      ],
      "execution_count": null,
      "outputs": [
        {
          "output_type": "execute_result",
          "data": {
            "text/plain": [
              "1"
            ]
          },
          "metadata": {
            "tags": []
          },
          "execution_count": 12
        }
      ]
    },
    {
      "cell_type": "markdown",
      "metadata": {
        "id": "nd4kEnoN1kbj",
        "colab_type": "text"
      },
      "source": [
        "Adding an entry to an existing dictionary is simply a matter of assigning a new key and value:"
      ]
    },
    {
      "cell_type": "code",
      "metadata": {
        "id": "bSI5E3z3qcBG",
        "colab_type": "code",
        "colab": {
          "base_uri": "https://localhost:8080/",
          "height": 34
        },
        "outputId": "71cfd888-a357-4cb8-d643-fa7ce90eb11e"
      },
      "source": [
        "game_dict.items()"
      ],
      "execution_count": null,
      "outputs": [
        {
          "output_type": "execute_result",
          "data": {
            "text/plain": [
              "dict_items([('paper', 3), ('scissors', 2), ('rock', 1)])"
            ]
          },
          "metadata": {
            "tags": []
          },
          "execution_count": 7
        }
      ]
    },
    {
      "cell_type": "code",
      "metadata": {
        "id": "AHE-BSoi2fA1",
        "colab_type": "code",
        "colab": {}
      },
      "source": [
        "game_dict['sink'] = 10000"
      ],
      "execution_count": null,
      "outputs": []
    },
    {
      "cell_type": "markdown",
      "metadata": {
        "id": "c6YayUrw2qYr",
        "colab_type": "text"
      },
      "source": [
        "If you want to update an entry, you can just assign a new value to an existing key:"
      ]
    },
    {
      "cell_type": "code",
      "metadata": {
        "id": "wdU1OCIq2rYO",
        "colab_type": "code",
        "colab": {}
      },
      "source": [
        "game_dict['sink'] = 4"
      ],
      "execution_count": null,
      "outputs": []
    },
    {
      "cell_type": "markdown",
      "metadata": {
        "id": "TH4TH3OM2wE4",
        "colab_type": "text"
      },
      "source": [
        "To delete an entry, use the del statement, specifying the key to delete:"
      ]
    },
    {
      "cell_type": "code",
      "metadata": {
        "id": "pR3rtc8x2xGW",
        "colab_type": "code",
        "colab": {}
      },
      "source": [
        "del game_dict['sink']"
      ],
      "execution_count": null,
      "outputs": []
    },
    {
      "cell_type": "code",
      "metadata": {
        "id": "8QhAfXCzqqR4",
        "colab_type": "code",
        "colab": {
          "base_uri": "https://localhost:8080/",
          "height": 34
        },
        "outputId": "ea4d2186-9561-476e-8c50-46189438bc07"
      },
      "source": [
        "game_dict.items()"
      ],
      "execution_count": null,
      "outputs": [
        {
          "output_type": "execute_result",
          "data": {
            "text/plain": [
              "dict_items([('paper', 3), ('scissors', 2), ('rock', 1)])"
            ]
          },
          "metadata": {
            "tags": []
          },
          "execution_count": 11
        }
      ]
    },
    {
      "cell_type": "markdown",
      "metadata": {
        "id": "5KZzpIgj287J",
        "colab_type": "text"
      },
      "source": [
        "##Building a Dictionary Incrementally\n",
        "\n",
        "Defining a dictionary using curly braces and a list of key-value pairs, as shown above, is fine if you know all the keys and values in advance. But what if you want to build a dictionary on the fly?\n",
        "\n",
        "You can start by creating an empty dictionary, which is specified by empty curly braces. Then you can add new keys and values one at a time"
      ]
    },
    {
      "cell_type": "code",
      "metadata": {
        "id": "fKDBCPxt2-uG",
        "colab_type": "code",
        "colab": {
          "base_uri": "https://localhost:8080/",
          "height": 52
        },
        "outputId": "d62f877d-8d2f-469b-ec98-9f883f5e9821"
      },
      "source": [
        "person = {}\n",
        "print(type(person))\n",
        "\n",
        "person['fname'] = 'Joe'\n",
        "person['lname'] = 'Fonebone'\n",
        "person['age'] = 51\n",
        "person['spouse'] = 'Edna'\n",
        "person['children'] = ['Ralph', 'Betty', 'Joey']\n",
        "person['pets'] = {'dog': 'Fido', 'cat': 'Sox'} \n",
        "print(person.items())"
      ],
      "execution_count": null,
      "outputs": [
        {
          "output_type": "stream",
          "text": [
            "<class 'dict'>\n",
            "dict_items([('fname', 'Joe'), ('lname', 'Fonebone'), ('age', 51), ('spouse', 'Edna'), ('children', ['Ralph', 'Betty', 'Joey']), ('pets', {'dog': 'Fido', 'cat': 'Sox'})])\n"
          ],
          "name": "stdout"
        }
      ]
    },
    {
      "cell_type": "markdown",
      "metadata": {
        "id": "5CiPlCNH3Rvn",
        "colab_type": "text"
      },
      "source": [
        "Retrieving the values in the sublist or subdictionary requires an additional index or key"
      ]
    },
    {
      "cell_type": "code",
      "metadata": {
        "id": "F1bvE-pF3VXQ",
        "colab_type": "code",
        "colab": {
          "base_uri": "https://localhost:8080/",
          "height": 39
        },
        "outputId": "0338ebef-5c20-4a5d-f056-96d8672e84e7"
      },
      "source": [
        "person['children'][-1]"
      ],
      "execution_count": null,
      "outputs": [
        {
          "output_type": "execute_result",
          "data": {
            "application/vnd.google.colaboratory.intrinsic+json": {
              "type": "string"
            },
            "text/plain": [
              "'Joey'"
            ]
          },
          "metadata": {
            "tags": []
          },
          "execution_count": 17
        }
      ]
    },
    {
      "cell_type": "code",
      "metadata": {
        "id": "xyoynwNF3WQI",
        "colab_type": "code",
        "colab": {
          "base_uri": "https://localhost:8080/",
          "height": 39
        },
        "outputId": "539a7b7d-c978-4972-d019-c36ecf7e9cb2"
      },
      "source": [
        "person['pets']['cat']"
      ],
      "execution_count": null,
      "outputs": [
        {
          "output_type": "execute_result",
          "data": {
            "application/vnd.google.colaboratory.intrinsic+json": {
              "type": "string"
            },
            "text/plain": [
              "'Sox'"
            ]
          },
          "metadata": {
            "tags": []
          },
          "execution_count": 18
        }
      ]
    },
    {
      "cell_type": "markdown",
      "metadata": {
        "id": "auh3omUm6lZo",
        "colab_type": "text"
      },
      "source": [
        "This example exhibits another feature of dictionaries: the values contained in the dictionary don’t need to be the same type. In person, some of the values are strings, one is an integer, one is a list, and one is another dictionary.\n",
        "\n",
        "Just as the values in a dictionary don’t need to be of the same type, the keys don’t either:"
      ]
    },
    {
      "cell_type": "code",
      "metadata": {
        "id": "EsNr5z6X6m13",
        "colab_type": "code",
        "colab": {}
      },
      "source": [
        "foo = {42: 'aaa', 2.78: 'bbb', True: 'ccc'}"
      ],
      "execution_count": null,
      "outputs": []
    },
    {
      "cell_type": "code",
      "metadata": {
        "id": "daJAiZe46qFv",
        "colab_type": "code",
        "colab": {
          "base_uri": "https://localhost:8080/",
          "height": 69
        },
        "outputId": "e053b2ca-b53a-42fd-d6af-dfbd49b011d1"
      },
      "source": [
        "print(foo[42])\n",
        "print(foo[True])\n",
        "print(foo[2.78])"
      ],
      "execution_count": null,
      "outputs": [
        {
          "output_type": "stream",
          "text": [
            "aaa\n",
            "ccc\n",
            "bbb\n"
          ],
          "name": "stdout"
        }
      ]
    },
    {
      "cell_type": "markdown",
      "metadata": {
        "id": "qm2HqIbT65UW",
        "colab_type": "text"
      },
      "source": [
        "##Restrictions on Dictionary Keys\n",
        "\n",
        "Almost any type of value can be used as a dictionary key in Python. You just saw this example, where integer, float, and Boolean objects are used as keys. \n",
        "\n",
        "However, there are a couple restrictions that dictionary keys must abide by.\n",
        "\n",
        "First, a given key can appear in a dictionary only once. Duplicate keys are not allowed. A dictionary maps each key to a corresponding value, so it doesn’t make sense to map a particular key more than once.\n",
        "\n",
        "You saw above that when you assign a value to an already existing dictionary key, it does not add the key a second time, but replaces the existing value:\n",
        "\n",
        "Similarly, if you specify a key a second time during the initial creation of a dictionary, the second occurrence will override the first. "
      ]
    },
    {
      "cell_type": "markdown",
      "metadata": {
        "id": "9ayK03ub7ZuZ",
        "colab_type": "text"
      },
      "source": [
        "##Operators and Built-in Functions\n",
        "\n",
        "You have already become familiar with many of the operators and built-in functions that can be used with strings, lists, and tuples. Some of these work with dictionaries as well.\n",
        "\n",
        "For example, the in and not in operators return True or False according to whether the specified operand occurs as a key in the dictionary:"
      ]
    },
    {
      "cell_type": "code",
      "metadata": {
        "id": "aony-OIarY15",
        "colab_type": "code",
        "colab": {
          "base_uri": "https://localhost:8080/",
          "height": 167
        },
        "outputId": "4bcbb598-191f-4e53-cf60-790646b6eae9"
      },
      "source": [
        "game_dict['z']"
      ],
      "execution_count": null,
      "outputs": [
        {
          "output_type": "error",
          "ename": "KeyError",
          "evalue": "ignored",
          "traceback": [
            "\u001b[0;31m---------------------------------------------------------------------------\u001b[0m",
            "\u001b[0;31mKeyError\u001b[0m                                  Traceback (most recent call last)",
            "\u001b[0;32m<ipython-input-17-1a81783f5abd>\u001b[0m in \u001b[0;36m<module>\u001b[0;34m()\u001b[0m\n\u001b[0;32m----> 1\u001b[0;31m \u001b[0mgame_dict\u001b[0m\u001b[0;34m[\u001b[0m\u001b[0;34m'z'\u001b[0m\u001b[0;34m]\u001b[0m\u001b[0;34m\u001b[0m\u001b[0;34m\u001b[0m\u001b[0m\n\u001b[0m",
            "\u001b[0;31mKeyError\u001b[0m: 'z'"
          ]
        }
      ]
    },
    {
      "cell_type": "code",
      "metadata": {
        "id": "MbZ8qZknrjZd",
        "colab_type": "code",
        "colab": {}
      },
      "source": [
        "game_dict.get('z')"
      ],
      "execution_count": null,
      "outputs": []
    },
    {
      "cell_type": "code",
      "metadata": {
        "id": "4e4lAAyHrY8B",
        "colab_type": "code",
        "colab": {
          "base_uri": "https://localhost:8080/",
          "height": 34
        },
        "outputId": "84bdb50c-f68b-4d37-8233-a9b12699c636"
      },
      "source": [
        "game_dict.items()"
      ],
      "execution_count": null,
      "outputs": [
        {
          "output_type": "execute_result",
          "data": {
            "text/plain": [
              "dict_items([('paper', 3), ('scissors', 2), ('rock', 1)])"
            ]
          },
          "metadata": {
            "tags": []
          },
          "execution_count": 14
        }
      ]
    },
    {
      "cell_type": "code",
      "metadata": {
        "id": "N6O1GuFvzzYc",
        "colab_type": "code",
        "colab": {
          "base_uri": "https://localhost:8080/",
          "height": 191
        },
        "outputId": "25b54cf6-2fec-4cb5-df06-4c2c33a1efcf"
      },
      "source": [
        "\n",
        "#d.clear() empties dictionary d of all key-value pairs:\n",
        "#d.get(<key>[, <default>])\n",
        "print(game_dict.get('rock'))\n",
        "print(game_dict.get('z')) # returns None \n",
        "print(game_dict.get('z', -1))\n",
        "#d.items() returns a list of key-value pairs in a dictionary.\n",
        "print(list(game_dict.items()))\n",
        "#d.keys() returns a list of all keys in d:\n",
        "print(game_dict.keys())\n",
        "#d.values() returns a list of all values in d: Any duplicate values in d will be returned as many times as they occur:\n",
        "print(game_dict.values())\n",
        "#d.pop(<key>[, <default>]) Removes a key from a dictionary, if it is present, and returns its value.\n",
        "print(game_dict.pop('rock'))\n",
        "print(game_dict.values())\n",
        "#d.popitem() Removes a key-value pair from a dictionary.\n",
        "#d.update(<obj>) Merges a dictionary with another dictionary or with an iterable of key-value pairs.\n",
        "game_dict2 = {'rock':1,'paper':30}\n",
        "game_dict.update(game_dict2)\n",
        "print(game_dict.items())\n",
        "print(game_dict['rock'])"
      ],
      "execution_count": null,
      "outputs": [
        {
          "output_type": "stream",
          "text": [
            "1\n",
            "None\n",
            "-1\n",
            "[('paper', 3), ('scissors', 2), ('rock', 1)]\n",
            "dict_keys(['paper', 'scissors', 'rock'])\n",
            "dict_values([3, 2, 1])\n",
            "1\n",
            "dict_values([3, 2])\n",
            "dict_items([('paper', 30), ('scissors', 2), ('rock', 1)])\n",
            "1\n"
          ],
          "name": "stdout"
        }
      ]
    },
    {
      "cell_type": "markdown",
      "metadata": {
        "id": "IwOeVn817cRq",
        "colab_type": "text"
      },
      "source": [
        "##[Defining a function ](https://www.tutorialspoint.com/python/python_functions.htm)\n",
        "\n"
      ]
    },
    {
      "cell_type": "markdown",
      "metadata": {
        "id": "dc-2YWw48Oe5",
        "colab_type": "text"
      },
      "source": [
        "A function is a block of organized, reusable code that is used to perform a single, related action. Functions provide better modularity for your application and a high degree of code reusing.\n",
        "\n",
        "As you already know, Python gives you many built-in functions like print(), etc. but you can also create your own functions. These functions are called user-defined functions.\n",
        "Defining a Function\n",
        "\n",
        "You can define functions to provide the required functionality. Here are simple rules to define a function in Python.\n",
        "\n",
        "    * Function blocks begin with the keyword def followed by the function name and parentheses ( ( ) ).\n",
        "\n",
        "    * Any input parameters or arguments should be placed within these parentheses. You can also define parameters inside these parentheses.\n",
        "\n",
        "    * The first statement of a function can be an optional statement - the documentation string of the function or docstring.\n",
        "\n",
        "    * The code block within every function starts with a colon (:) and is indented.\n",
        "\n",
        "    * The statement return [expression] exits a function, optionally passing back an expression to the caller. A return statement with no arguments is the same as return None.\n"
      ]
    },
    {
      "cell_type": "markdown",
      "metadata": {
        "id": "F2LCxcua8ep9",
        "colab_type": "text"
      },
      "source": [
        "Syntax\n",
        "\n",
        "```\n",
        "def functionname( parameters ):\n",
        "   \"function_docstring\"\n",
        "   function_suite\n",
        "   return [expression]\n",
        "```\n",
        "\n",
        "By default, parameters have a positional behavior and you need to inform them in the same order that they were defined."
      ]
    },
    {
      "cell_type": "code",
      "metadata": {
        "id": "98wCoQn4sobL",
        "colab_type": "code",
        "colab": {}
      },
      "source": [
        "def printme(object1,list_):\n",
        "   print(np.array(list_))\n",
        "   \"This prints a passed string into this function\"\n",
        "   print(object1)\n",
        "   return "
      ],
      "execution_count": null,
      "outputs": []
    },
    {
      "cell_type": "code",
      "metadata": {
        "id": "edCs-LVasuxO",
        "colab_type": "code",
        "colab": {
          "base_uri": "https://localhost:8080/",
          "height": 86
        },
        "outputId": "8afa8580-36a3-4960-ee3a-fd34ac995ab0"
      },
      "source": [
        "import numpy as np\n",
        "printme('hello',[1,2,3])\n",
        "printme([1,2,3],'hello')"
      ],
      "execution_count": null,
      "outputs": [
        {
          "output_type": "stream",
          "text": [
            "[1 2 3]\n",
            "hello\n",
            "hello\n",
            "[1, 2, 3]\n"
          ],
          "name": "stdout"
        }
      ]
    },
    {
      "cell_type": "code",
      "metadata": {
        "id": "jpYvoKQkz_gI",
        "colab_type": "code",
        "colab": {}
      },
      "source": [
        "def printme(object_):\n",
        "   \"This prints a passed string into this function\"\n",
        "   print(object_)\n",
        "   return "
      ],
      "execution_count": null,
      "outputs": []
    },
    {
      "cell_type": "markdown",
      "metadata": {
        "id": "vPhbX7L-9AWl",
        "colab_type": "text"
      },
      "source": [
        "##Calling a Function\n",
        "\n",
        "Defining a function only gives it a name, specifies the parameters that are to be included in the function and structures the blocks of code.\n",
        "\n",
        "Once the basic structure of a function is finalized, you can execute it by calling it from another function or directly from the Python prompt. Following is the example to call printme() function −"
      ]
    },
    {
      "cell_type": "code",
      "metadata": {
        "id": "gacC8BWk8nIR",
        "colab_type": "code",
        "colab": {
          "base_uri": "https://localhost:8080/",
          "height": 34
        },
        "outputId": "3d54647f-98ca-403d-9452-34ae313fa85a"
      },
      "source": [
        "five = printme(5)"
      ],
      "execution_count": null,
      "outputs": [
        {
          "output_type": "stream",
          "text": [
            "5\n"
          ],
          "name": "stdout"
        }
      ]
    },
    {
      "cell_type": "markdown",
      "metadata": {
        "id": "7yJGnsth9I_D",
        "colab_type": "text"
      },
      "source": [
        "Pass by reference vs value\n",
        "\n",
        "All parameters (arguments) in the Python language are passed by reference. It means if you change what a parameter refers to within a function, the change also reflects back in the calling function. For example −"
      ]
    },
    {
      "cell_type": "code",
      "metadata": {
        "id": "uu_a0UfT8xp-",
        "colab_type": "code",
        "colab": {
          "base_uri": "https://localhost:8080/",
          "height": 52
        },
        "outputId": "4ee1aebc-556d-452d-8c62-44f6b002a7be"
      },
      "source": [
        "def changeme( mylist ):\n",
        "   \"This changes a passed list into this function\"\n",
        "   mylist.append([1,2,3,4])\n",
        "   print(\"Values inside the function: \", mylist)\n",
        "   return\n",
        "\n",
        "# Now you can call changeme function\n",
        "mylist = [10,20,30]\n",
        "changeme(mylist)\n",
        "print(\"Values outside the function: \", mylist)"
      ],
      "execution_count": null,
      "outputs": [
        {
          "output_type": "stream",
          "text": [
            "Values inside the function:  [10, 20, 30, [1, 2, 3, 4]]\n",
            "Values outside the function:  [10, 20, 30, [1, 2, 3, 4]]\n"
          ],
          "name": "stdout"
        }
      ]
    },
    {
      "cell_type": "markdown",
      "metadata": {
        "id": "j8qgppti9ezF",
        "colab_type": "text"
      },
      "source": [
        "There is one more example where argument is being passed by reference and the reference is being overwritten inside the called function."
      ]
    },
    {
      "cell_type": "code",
      "metadata": {
        "id": "oUH9LXeI9Rkt",
        "colab_type": "code",
        "colab": {
          "base_uri": "https://localhost:8080/",
          "height": 52
        },
        "outputId": "996bdbcb-3540-407f-b877-fe6181a1f6dd"
      },
      "source": [
        "# Function definition is here\n",
        "def changeme( mylist ):\n",
        "   \"This changes a passed list into this function\"\n",
        "   mylist = [1,2,3,4] # This would assig new reference in mylist\n",
        "   print(\"Values inside the function: \", mylist)\n",
        "   return\n",
        "\n",
        "# Now you can call changeme function\n",
        "mylist = [10,20,30]\n",
        "changeme( mylist)\n",
        "print(\"Values outside the function: \", mylist)"
      ],
      "execution_count": null,
      "outputs": [
        {
          "output_type": "stream",
          "text": [
            "Values inside the function:  [1, 2, 3, 4]\n",
            "Values outside the function:  [10, 20, 30]\n"
          ],
          "name": "stdout"
        }
      ]
    },
    {
      "cell_type": "markdown",
      "metadata": {
        "id": "R6W1w_SU94U5",
        "colab_type": "text"
      },
      "source": [
        "The parameter mylist is local to the function changeme. Changing mylist within the function does not affect mylist. The function accomplishes nothing and finally this would produce the following result −\n"
      ]
    },
    {
      "cell_type": "markdown",
      "metadata": {
        "id": "OCD6c0Y8_k3B",
        "colab_type": "text"
      },
      "source": [
        "##Function Arguments\n",
        "\n",
        "You can call a function by using the following types of formal arguments −\n",
        "\n",
        "    Required arguments\n",
        "    Keyword arguments\n",
        "    Default arguments\n",
        "    Variable-length arguments\n",
        "\n",
        "##Required arguments\n",
        "\n",
        "Required arguments are the arguments passed to a function in correct positional order. Here, the number of arguments in the function call should match exactly with the function definition.\n",
        "\n",
        "To call the function printme(), you definitely need to pass one argument, otherwise it gives a syntax error as follows −"
      ]
    },
    {
      "cell_type": "code",
      "metadata": {
        "id": "mV3d28Y-9lzS",
        "colab_type": "code",
        "colab": {
          "base_uri": "https://localhost:8080/",
          "height": 201
        },
        "outputId": "e17d2404-b97a-4f7b-9625-b67bf82c2771"
      },
      "source": [
        "# Function definition is here\n",
        "def printme( string ):\n",
        "   \"This prints a passed string into this function\"\n",
        "   print(string)\n",
        "   return\n",
        "\n",
        "# Now you can call printme function\n",
        "printme()"
      ],
      "execution_count": null,
      "outputs": [
        {
          "output_type": "error",
          "ename": "TypeError",
          "evalue": "ignored",
          "traceback": [
            "\u001b[0;31m---------------------------------------------------------------------------\u001b[0m",
            "\u001b[0;31mTypeError\u001b[0m                                 Traceback (most recent call last)",
            "\u001b[0;32m<ipython-input-38-dd76ec06bc9b>\u001b[0m in \u001b[0;36m<module>\u001b[0;34m()\u001b[0m\n\u001b[1;32m      6\u001b[0m \u001b[0;34m\u001b[0m\u001b[0m\n\u001b[1;32m      7\u001b[0m \u001b[0;31m# Now you can call printme function\u001b[0m\u001b[0;34m\u001b[0m\u001b[0;34m\u001b[0m\u001b[0;34m\u001b[0m\u001b[0m\n\u001b[0;32m----> 8\u001b[0;31m \u001b[0mprintme\u001b[0m\u001b[0;34m(\u001b[0m\u001b[0;34m)\u001b[0m\u001b[0;34m\u001b[0m\u001b[0;34m\u001b[0m\u001b[0m\n\u001b[0m",
            "\u001b[0;31mTypeError\u001b[0m: printme() missing 1 required positional argument: 'string'"
          ]
        }
      ]
    },
    {
      "cell_type": "markdown",
      "metadata": {
        "id": "ps-T3KWk_3_j",
        "colab_type": "text"
      },
      "source": [
        "##Keyword arguments\n",
        "\n",
        "Keyword arguments are related to the function calls. When you use keyword arguments in a function call, the caller identifies the arguments by the parameter name.\n",
        "\n",
        "This allows you to skip arguments or place them out of order because the Python interpreter is able to use the keywords provided to match the values with parameters. You can also make keyword calls to the printme() function in the following ways −\n"
      ]
    },
    {
      "cell_type": "code",
      "metadata": {
        "id": "e_p6DpdW_vF2",
        "colab_type": "code",
        "colab": {
          "base_uri": "https://localhost:8080/",
          "height": 34
        },
        "outputId": "a03d5faa-b928-4cda-88f8-62452ed201d8"
      },
      "source": [
        "# Function definition is here\n",
        "def printme( string ):\n",
        "   \"This prints a passed string into this function\"\n",
        "   print(string)\n",
        "   return\n",
        "\n",
        "# Now you can call printme function\n",
        "printme(string = \"My string\")"
      ],
      "execution_count": null,
      "outputs": [
        {
          "output_type": "stream",
          "text": [
            "My string\n"
          ],
          "name": "stdout"
        }
      ]
    },
    {
      "cell_type": "code",
      "metadata": {
        "id": "oVg9mi41AEDo",
        "colab_type": "code",
        "colab": {
          "base_uri": "https://localhost:8080/",
          "height": 52
        },
        "outputId": "9c52e6de-f212-4804-ca84-469d18522cb8"
      },
      "source": [
        "# Function definition is here\n",
        "def printinfo( name, age ):\n",
        "   \"This prints a passed info into this function\"\n",
        "   print(\"Name: \", name)\n",
        "   print(\"Age \", age)\n",
        "   return\n",
        "\n",
        "# Now you can call printinfo function\n",
        "printinfo(age=50, name=\"miki\" )"
      ],
      "execution_count": null,
      "outputs": [
        {
          "output_type": "stream",
          "text": [
            "Name:  miki\n",
            "Age  50\n"
          ],
          "name": "stdout"
        }
      ]
    },
    {
      "cell_type": "markdown",
      "metadata": {
        "id": "BzsMQaBoAOSA",
        "colab_type": "text"
      },
      "source": [
        "##Default arguments\n",
        "\n",
        "A default argument is an argument that assumes a default value if a value is not provided in the function call for that argument. The following example gives an idea on default arguments, it prints default age if it is not passed −\n"
      ]
    },
    {
      "cell_type": "code",
      "metadata": {
        "id": "zKMUVRpPAKy3",
        "colab_type": "code",
        "colab": {
          "base_uri": "https://localhost:8080/",
          "height": 86
        },
        "outputId": "6f9265df-0bd1-4775-9697-057373f092db"
      },
      "source": [
        "# Function definition is here\n",
        "def printinfo( name, age = 35 ):\n",
        "   \"This prints a passed info into this function\"\n",
        "   print(\"Name: \", name)\n",
        "   print(\"Age \", age)\n",
        "   return \n",
        "# Now you can call printinfo function\n",
        "five = printinfo( age=50, name=\"miki\" )\n",
        "printinfo( name=\"miki\" )"
      ],
      "execution_count": null,
      "outputs": [
        {
          "output_type": "stream",
          "text": [
            "Name:  miki\n",
            "Age  50\n",
            "Name:  miki\n",
            "Age  35\n"
          ],
          "name": "stdout"
        }
      ]
    },
    {
      "cell_type": "code",
      "metadata": {
        "id": "ibz2YMiFumxk",
        "colab_type": "code",
        "colab": {
          "base_uri": "https://localhost:8080/",
          "height": 34
        },
        "outputId": "7fe44901-deb4-4161-e6fa-0a07e3c716fc"
      },
      "source": [
        "print(five)"
      ],
      "execution_count": null,
      "outputs": [
        {
          "output_type": "stream",
          "text": [
            "None\n"
          ],
          "name": "stdout"
        }
      ]
    },
    {
      "cell_type": "markdown",
      "metadata": {
        "id": "flyqXl10BfI8",
        "colab_type": "text"
      },
      "source": [
        "##Variable-length arguments\n",
        "\n",
        "You may need to process a function for more arguments than you specified while defining the function. These arguments are called variable-length arguments and are not named in the function definition, unlike required and default arguments.\n",
        "\n",
        "Syntax for a function with non-keyword variable arguments is this :\n",
        "\n",
        "\n",
        "\n",
        "```\n",
        "def functionname([formal_args,] *var_args_tuple ):\n",
        "   \"function_docstring\"\n",
        "   function_suite\n",
        "   return [expression]\n",
        "```\n",
        "An asterisk (*) is placed before the variable name that holds the values of all nonkeyword variable arguments. This tuple remains empty if no additional arguments are specified during the function call. Following is a simple example −\n",
        "\n",
        "\n"
      ]
    },
    {
      "cell_type": "code",
      "metadata": {
        "id": "zc6q9B3lAT3i",
        "colab_type": "code",
        "colab": {
          "base_uri": "https://localhost:8080/",
          "height": 86
        },
        "outputId": "635a5d51-b598-460b-ff57-9090ac42ed8e"
      },
      "source": [
        "# Function definition is here\n",
        "def printinfo( arg1, *vartuple ):\n",
        "   \"This prints a variable passed arguments\"\n",
        "   print(\"Output is: \")\n",
        "  #  print(arg1)\n",
        "   for var in vartuple:\n",
        "      print(var)\n",
        "   return\n",
        "\n",
        "# Now you can call printinfo function\n",
        "printinfo(10)\n",
        "printinfo(70, 60, 50 )"
      ],
      "execution_count": null,
      "outputs": [
        {
          "output_type": "stream",
          "text": [
            "Output is: \n",
            "Output is: \n",
            "60\n",
            "50\n"
          ],
          "name": "stdout"
        }
      ]
    },
    {
      "cell_type": "markdown",
      "metadata": {
        "id": "vrukdg3zEZ8j",
        "colab_type": "text"
      },
      "source": [
        "##The return Statement\n",
        "\n",
        "The statement return [expression] exits a function, optionally passing back an expression to the caller. A return statement with no arguments is the same as return None.\n",
        "\n",
        "All the above examples are not returning any value. You can return a value from a function as follows −\n"
      ]
    },
    {
      "cell_type": "code",
      "metadata": {
        "id": "ESeMJWA-E8PN",
        "colab_type": "code",
        "colab": {
          "base_uri": "https://localhost:8080/",
          "height": 86
        },
        "outputId": "2598d0a9-6796-450d-d291-76480333bb3b"
      },
      "source": [
        "def sum_( arg1, arg2 ):\n",
        "   # Add both the parameters and return them.\"\n",
        "   total = arg1 + arg2\n",
        "   print(\"Inside the function : \", total)\n",
        "   return total,arg1,arg2\n",
        "\n",
        "# Now you can call sum function\n",
        "total,arg1,arg2 = sum_( 10, 20 )\n",
        "result = sum_(10,20)\n",
        "print(\"Outside the function : \", total)\n",
        "print(type(result))"
      ],
      "execution_count": null,
      "outputs": [
        {
          "output_type": "stream",
          "text": [
            "Inside the function :  30\n",
            "Inside the function :  30\n",
            "Outside the function :  30\n",
            "<class 'tuple'>\n"
          ],
          "name": "stdout"
        }
      ]
    },
    {
      "cell_type": "markdown",
      "metadata": {
        "id": "07ZZqtwpFEFC",
        "colab_type": "text"
      },
      "source": [
        "## Scope of Variables\n",
        "\n",
        "All variables in a program may not be accessible at all locations in that program. This depends on where you have declared a variable.\n",
        "\n",
        "The scope of a variable determines the portion of the program where you can access a particular identifier. There are two basic scopes of variables in Python −\n",
        "\n",
        "  * Global variables\n",
        "  * Local variables\n",
        "\n",
        "## Global vs. Local variables\n",
        "\n",
        "Variables that are defined inside a function body have a local scope, and those defined outside have a global scope.\n",
        "\n",
        "This means that local variables can be accessed only inside the function in which they are declared, whereas global variables can be accessed throughout the program body by all functions. When you call a function, the variables declared inside it are brought into scope. Following is a simple example −"
      ]
    },
    {
      "cell_type": "code",
      "metadata": {
        "id": "-TwcRRK8FRQX",
        "colab_type": "code",
        "colab": {
          "base_uri": "https://localhost:8080/",
          "height": 52
        },
        "outputId": "99b63ad5-47cf-4040-809d-f26401931aee"
      },
      "source": [
        "total = 0; # This is global variable.\n",
        "# Function definition is here\n",
        "total2 = 90\n",
        "def sum_( arg1, arg2 ):\n",
        "   # Add both the parameters and return them.\"\n",
        "   total = arg1 + arg2+total2 # Here total is local variable.\n",
        "   print(\"Inside the function local total : \", total)\n",
        "   return total\n",
        "\n",
        "# Now you can call sum function\n",
        "sum_( 10, 20 );\n",
        "print(\"Outside the function global total : \", total)"
      ],
      "execution_count": null,
      "outputs": [
        {
          "output_type": "stream",
          "text": [
            "Inside the function local total :  120\n",
            "Outside the function global total :  0\n"
          ],
          "name": "stdout"
        }
      ]
    },
    {
      "cell_type": "markdown",
      "metadata": {
        "id": "BbUiPvw7B1k8",
        "colab_type": "text"
      },
      "source": [
        "##[The Anonymous Functions](https://thispointer.com/python-how-to-use-if-else-elif-in-lambda-functions/)\n",
        "\n",
        "\n",
        "These functions are called anonymous because they are not declared in the standard manner by using the def keyword. You can use the lambda keyword to create small anonymous functions.\n",
        "\n",
        "  * Lambda forms can take any number of arguments but return just one value in the form of an expression. They cannot contain commands or multiple expressions.\n",
        "\n",
        "  * An anonymous function cannot be a direct call to print because lambda requires an expression\n",
        "\n",
        "  * Lambda functions have their own local namespace and cannot access variables other than those in their parameter list and those in the global namespace.\n",
        "\n",
        "  * Although it appears that lambda's are a one-line version of a function, they are not equivalent to inline statements in C or C++, whose purpose is by passing function stack allocation during invocation for performance reasons.\n",
        "\n",
        "Syntax\n",
        "\n",
        "The syntax of lambda functions contains only a single statement, which is as follows −\n",
        "\n",
        "```\n",
        "lambda [arg1 [,arg2,.....argn]]:expression\n",
        "\n",
        "```\n",
        "Following is the example to show how lambda form of function works −\n",
        "\n",
        "\n"
      ]
    },
    {
      "cell_type": "code",
      "metadata": {
        "id": "l8lYOMYlBtNL",
        "colab_type": "code",
        "colab": {
          "base_uri": "https://localhost:8080/",
          "height": 52
        },
        "outputId": "0f443578-0420-4fe3-f58f-d803bf3944d2"
      },
      "source": [
        "sum_ = lambda arg1, arg2: arg1 + arg2 \n",
        "\n",
        "# Now you can call sum as a function\n",
        "print(\"Value of total : \", sum_( 10, 20 ))\n",
        "print(\"Value of total : \", sum_( 20, 20 ))"
      ],
      "execution_count": null,
      "outputs": [
        {
          "output_type": "stream",
          "text": [
            "Value of total :  30\n",
            "Value of total :  40\n"
          ],
          "name": "stdout"
        }
      ]
    },
    {
      "cell_type": "code",
      "metadata": {
        "id": "qe-tHVbkCJvo",
        "colab_type": "code",
        "colab": {
          "base_uri": "https://localhost:8080/",
          "height": 69
        },
        "outputId": "b555f0d3-b712-4245-9674-008296eaffc3"
      },
      "source": [
        "test = lambda x : True if (x > 10 and x < 20) else False\n",
        "print(test(12))\n",
        "print(test(3))\n",
        "print(test(24))"
      ],
      "execution_count": null,
      "outputs": [
        {
          "output_type": "stream",
          "text": [
            "True\n",
            "False\n",
            "False\n"
          ],
          "name": "stdout"
        }
      ]
    },
    {
      "cell_type": "markdown",
      "metadata": {
        "id": "z1H3_HCTCx4C",
        "colab_type": "text"
      },
      "source": [
        "Creating conditional lambda function without if else"
      ]
    },
    {
      "cell_type": "code",
      "metadata": {
        "id": "wpCX2e7QCZ9Z",
        "colab_type": "code",
        "colab": {
          "base_uri": "https://localhost:8080/",
          "height": 69
        },
        "outputId": "7c035068-39c7-4eff-de95-abcfadaff31d"
      },
      "source": [
        "lambda x : x > 10 and x < 20\n",
        "# Lambda function to check if a given vaue is from 10 to 20.\n",
        "check = lambda x : x > 10 and x < 20\n",
        "# Check if given numbers are in range using lambda function\n",
        "print(check(12))\n",
        "print(check(3))\n",
        "print(check(24))"
      ],
      "execution_count": null,
      "outputs": [
        {
          "output_type": "stream",
          "text": [
            "True\n",
            "False\n",
            "False\n"
          ],
          "name": "stdout"
        }
      ]
    },
    {
      "cell_type": "markdown",
      "metadata": {
        "id": "gWZ6Zf2iDra3",
        "colab_type": "text"
      },
      "source": [
        "Using filter() function with a conditional lambda function (with if else)\n",
        "\n",
        "filter() function accepts a callback() function and a list of elements. It iterates over all elements in list and calls the given callback() function\n",
        "on each element. If callback() returns True then it appends that element in the new list. In the end it returns a new list of filtered elements only.\n",
        "\n",
        "Suppose we have a list of numbers i.e."
      ]
    },
    {
      "cell_type": "code",
      "metadata": {
        "id": "PU8V12H5DxDO",
        "colab_type": "code",
        "colab": {}
      },
      "source": [
        "filter??"
      ],
      "execution_count": null,
      "outputs": []
    },
    {
      "cell_type": "code",
      "metadata": {
        "id": "RC0nH_ygDquR",
        "colab_type": "code",
        "colab": {}
      },
      "source": [
        "listofNum = [1,3,33,12,34,56,11,19,21,34,15]"
      ],
      "execution_count": null,
      "outputs": []
    },
    {
      "cell_type": "code",
      "metadata": {
        "id": "x3bTX1brDt46",
        "colab_type": "code",
        "colab": {
          "base_uri": "https://localhost:8080/",
          "height": 34
        },
        "outputId": "5212572c-e8e4-4fb6-ab1d-30c8695a8bf5"
      },
      "source": [
        "test = lambda x : x > 10 and x < 20\n",
        "test(3)\n",
        "listofNum = list(filter(lambda x : x > 10 and x < 20, listofNum))\n",
        "print('Filtered List : ', listofNum)"
      ],
      "execution_count": null,
      "outputs": [
        {
          "output_type": "stream",
          "text": [
            "Filtered List :  [12, 11, 19, 15]\n"
          ],
          "name": "stdout"
        }
      ]
    },
    {
      "cell_type": "markdown",
      "metadata": {
        "id": "na-MpsOwD5bP",
        "colab_type": "text"
      },
      "source": [
        "Using if, elif & else in a lambda function\n",
        "\n",
        "Till now we have seen how to use if else in a lambda function but there might be cases when we need to check multiple conditions in a lambda function. Like we need to use if , else if & else in a lambda function. We can not directly use elseif in a lambda function. But we can achieve the same effect using if else & brackets i.e.\n",
        "\n",
        "\n",
        "```\n",
        "lambda <args> : <return Value> if <condition > ( <return value > if <condition> else <return value>)\n",
        "```\n"
      ]
    },
    {
      "cell_type": "markdown",
      "metadata": {
        "id": "zGF6MfOgECIE",
        "colab_type": "text"
      },
      "source": [
        "Create a lambda function that accepts a number and returns a new number based on this logic,\n",
        "\n",
        "  * If the given value is less than 10 then return by multiplying it by 2\n",
        "  * else if it’s between 10 to 20 then return multiplying it by 3\n",
        "  * else returns the same un-modified value\n"
      ]
    },
    {
      "cell_type": "code",
      "metadata": {
        "id": "zwRDD2cMD4nw",
        "colab_type": "code",
        "colab": {
          "base_uri": "https://localhost:8080/",
          "height": 69
        },
        "outputId": "eb7c4d3e-16aa-4dc8-ff82-c52123ee9e0b"
      },
      "source": [
        "converter = lambda x : x*2 if x < 10 else (x*3 if x < 20 else x)\n",
        "print('convert 5 to : ', converter(5))\n",
        "print('convert 13 to : ', converter(13))\n",
        "print('convert 23 to : ', converter(23))"
      ],
      "execution_count": null,
      "outputs": [
        {
          "output_type": "stream",
          "text": [
            "convert 5 to :  10\n",
            "convert 13 to :  39\n",
            "convert 23 to :  23\n"
          ],
          "name": "stdout"
        }
      ]
    },
    {
      "cell_type": "code",
      "metadata": {
        "id": "EAfoMy0yx4jw",
        "colab_type": "code",
        "colab": {}
      },
      "source": [
        "converter = lambda x : x*2 if x < 10 else (x*3 if x < 20 else x)\n"
      ],
      "execution_count": null,
      "outputs": []
    },
    {
      "cell_type": "markdown",
      "metadata": {
        "id": "qfT6fxI6v5eX",
        "colab_type": "text"
      },
      "source": [
        "##map():\n",
        "\n",
        "Syntax:\n",
        "map(func,iterables)\n",
        "map() passes each element in the iterable through a function and returns the result of all elements having passed through the function.\n",
        "\n",
        "func is the function which would be applied on each element present in iterables.\n",
        "\n",
        "The return type of map() function is a list in python 2. However in python 3 it is a map object. To get a list, built-in list() function can be used : list(map(func,iterables))\n",
        "\n",
        "Combining map and Lambda:\n",
        "Suppose we've a mundane task of increasing all the elements of a list by 3 units."
      ]
    },
    {
      "cell_type": "code",
      "metadata": {
        "id": "XSMmY-2SEQAB",
        "colab_type": "code",
        "colab": {
          "base_uri": "https://localhost:8080/",
          "height": 34
        },
        "outputId": "cd580c19-a7db-405c-cdd1-b00bee015f83"
      },
      "source": [
        "num_list = [2,3,4,5,6]\n",
        "increased = list(map(lambda x: x+3 , num_list))\n",
        "print(increased)\n"
      ],
      "execution_count": null,
      "outputs": [
        {
          "output_type": "stream",
          "text": [
            "[5, 6, 7, 8, 9]\n"
          ],
          "name": "stdout"
        }
      ]
    },
    {
      "cell_type": "code",
      "metadata": {
        "id": "s2MHSpquzdSB",
        "colab_type": "code",
        "colab": {}
      },
      "source": [
        ""
      ],
      "execution_count": null,
      "outputs": []
    },
    {
      "cell_type": "markdown",
      "metadata": {
        "id": "_MpAEYvtwgm-",
        "colab_type": "text"
      },
      "source": [
        "##[Exercises](https://github.com/garg10may/Python-for-Beginners-Solve-50-Exercises-Live)"
      ]
    },
    {
      "cell_type": "markdown",
      "metadata": {
        "id": "UwCWHRbJwjTn",
        "colab_type": "text"
      },
      "source": [
        "1- Double each value in the dictionary\n",
        "\n",
        "\n",
        "\n",
        "```\n",
        "dict1 = {'a': 1, 'b': 2, 'c': 3, 'd': 4, 'e': 5}\n",
        "\n",
        "```\n",
        "\n"
      ]
    },
    {
      "cell_type": "code",
      "metadata": {
        "id": "L8MvFAzEwD6u",
        "colab_type": "code",
        "colab": {
          "base_uri": "https://localhost:8080/",
          "height": 34
        },
        "outputId": "49cd7173-3bea-4ffc-83dc-93cf70781e99"
      },
      "source": [
        "dict1 = {'a': 1, 'b': 2, 'c': 3, 'd': 4, 'e': 5}\n",
        "double_dict1 = {k:v*2 for (k,v) in dict1.items()}\n",
        "print(double_dict1)"
      ],
      "execution_count": null,
      "outputs": [
        {
          "output_type": "stream",
          "text": [
            "{'a': 2, 'b': 4, 'c': 6, 'd': 8, 'e': 10}\n"
          ],
          "name": "stdout"
        }
      ]
    },
    {
      "cell_type": "markdown",
      "metadata": {
        "id": "fF7McaHkw97q",
        "colab_type": "text"
      },
      "source": [
        "2- Convert a dictionary of Fahrenheit temperatures into celsius.\n",
        "\n",
        "  * 2-1. Using map and lambda \n",
        "  * 2-2 Using dict comprehension\n"
      ]
    },
    {
      "cell_type": "code",
      "metadata": {
        "id": "PhqWsA7nw_Jn",
        "colab_type": "code",
        "colab": {
          "base_uri": "https://localhost:8080/",
          "height": 34
        },
        "outputId": "0f909ff5-67a0-42d9-d56f-1d88c8b02d84"
      },
      "source": [
        "# Initialize `fahrenheit` dictionary \n",
        "fahrenheit = {'t1':-30, 't2':-20, 't3':-10, 't4':0}\n",
        "\n",
        "#Get the corresponding `celsius` values\n",
        "celsius = list(map(lambda x: (float(5)/9)*(x-32), fahrenheit.values()))\n",
        "#Create the `celsius` dictionary\n",
        "celsius_dict = dict(zip(fahrenheit.keys(), celsius))\n",
        "\n",
        "print(celsius_dict)"
      ],
      "execution_count": null,
      "outputs": [
        {
          "output_type": "stream",
          "text": [
            "{'t1': -34.44444444444444, 't2': -28.88888888888889, 't3': -23.333333333333336, 't4': -17.77777777777778}\n"
          ],
          "name": "stdout"
        }
      ]
    },
    {
      "cell_type": "code",
      "metadata": {
        "id": "tTKN8YnB7Rib",
        "colab_type": "code",
        "colab": {
          "base_uri": "https://localhost:8080/",
          "height": 86
        },
        "outputId": "f001942a-75af-411f-d43d-dc42e1160aed"
      },
      "source": [
        "for i in zip(fahrenheit.keys(), celsius):\n",
        "  print(i)\n"
      ],
      "execution_count": null,
      "outputs": [
        {
          "output_type": "stream",
          "text": [
            "('t1', -34.44444444444444)\n",
            "('t2', -28.88888888888889)\n",
            "('t3', -23.333333333333336)\n",
            "('t4', -17.77777777777778)\n"
          ],
          "name": "stdout"
        }
      ]
    },
    {
      "cell_type": "code",
      "metadata": {
        "id": "JRJVPSRExCup",
        "colab_type": "code",
        "colab": {
          "base_uri": "https://localhost:8080/",
          "height": 34
        },
        "outputId": "d00a9cd8-94ff-4253-dad6-389aca3e8e91"
      },
      "source": [
        "# Initialize the `fahrenheit` dictionary \n",
        "fahrenheit = {'t1': -30,'t2': -20,'t3': -10,'t4': 0}\n",
        "\n",
        "# Get the corresponding `celsius` values and create the new dictionary\n",
        "celsius = {k:(float(5)/9)*(v-32) for (k,v) in fahrenheit.items()}\n",
        "\n",
        "print(celsius_dict)"
      ],
      "execution_count": null,
      "outputs": [
        {
          "output_type": "stream",
          "text": [
            "{'t1': -34.44444444444444, 't2': -28.88888888888889, 't3': -23.333333333333336, 't4': -17.77777777777778}\n"
          ],
          "name": "stdout"
        }
      ]
    },
    {
      "cell_type": "markdown",
      "metadata": {
        "id": "XrvxvFDBzroP",
        "colab_type": "text"
      },
      "source": [
        "3- In cryptography, a Caesar cipher is a very simple encryption techniques in which each letter in the plain text is replaced by a\n",
        "letter some fixed number of positions down the alphabet. For example,\n",
        "with a shift of 3, A would be replaced by D, B would become E, and so on.\n",
        "The method is named after Julius Caesar, who used it to communicate with his generals. \n",
        "ROT-13 (\"rotate by 13 places\") is a widely used example of a Caesar cipher where the shift is 13.\n",
        "In Python, the key for ROT-13 may be represented by means of the following dictionary:\n",
        "\n",
        "\n",
        "```\n",
        "key = {'a':'n', 'b':'o', 'c':'p', 'd':'q', 'e':'r', 'f':'s', 'g':'t', 'h':'u', \n",
        "       'i':'v', 'j':'w', 'k':'x', 'l':'y', 'm':'z', 'n':'a', 'o':'b', 'p':'c', \n",
        "       'q':'d', 'r':'e', 's':'f', 't':'g', 'u':'h', 'v':'i', 'w':'j', 'x':'k',\n",
        "       'y':'l', 'z':'m', 'A':'N', 'B':'O', 'C':'P', 'D':'Q', 'E':'R', 'F':'S', \n",
        "       'G':'T', 'H':'U', 'I':'V', 'J':'W', 'K':'X', 'L':'Y', 'M':'Z', 'N':'A', \n",
        "       'O':'B', 'P':'C', 'Q':'D', 'R':'E', 'S':'F', 'T':'G', 'U':'H', 'V':'I', \n",
        "       'W':'J', 'X':'K', 'Y':'L', 'Z':'M'}\n",
        "```\n",
        "\n",
        "Your task in this exercise is to implement an encoder/decoder of ROT-13.\n",
        "Once you're done, you will be able to read the following secret message:\n",
        "**Pnrfne pvcure? V zhpu cersre Pnrfne fnynq!**\n",
        "Note that since English has 26 characters, your ROT-13 program will be able to both encode and decode texts written in English.\n",
        "\n"
      ]
    },
    {
      "cell_type": "code",
      "metadata": {
        "id": "oEshHVLA-ijc",
        "colab_type": "code",
        "colab": {
          "base_uri": "https://localhost:8080/",
          "height": 57
        },
        "outputId": "68ca4112-14eb-4445-c022-d40f2c7a0eec"
      },
      "source": [
        "list_string = list('hello world')\n",
        "print(list_string)\n",
        "''.join(list_string)"
      ],
      "execution_count": null,
      "outputs": [
        {
          "output_type": "stream",
          "text": [
            "['h', 'e', 'l', 'l', 'o', ' ', 'w', 'o', 'r', 'l', 'd']\n"
          ],
          "name": "stdout"
        },
        {
          "output_type": "execute_result",
          "data": {
            "application/vnd.google.colaboratory.intrinsic+json": {
              "type": "string"
            },
            "text/plain": [
              "'hello world'"
            ]
          },
          "metadata": {
            "tags": []
          },
          "execution_count": 66
        }
      ]
    },
    {
      "cell_type": "code",
      "metadata": {
        "id": "FnafSbn4xWJZ",
        "colab_type": "code",
        "colab": {
          "base_uri": "https://localhost:8080/",
          "height": 52
        },
        "outputId": "8258170f-7153-48fb-a28f-004826d44843"
      },
      "source": [
        "d = {'a':'n', 'b':'o', 'c':'p', 'd':'q', 'e':'r', 'f':'s', 'g':'t', 'h':'u', \n",
        "       'i':'v', 'j':'w', 'k':'x', 'l':'y', 'm':'z', 'n':'a', 'o':'b', 'p':'c', \n",
        "       'q':'d', 'r':'e', 's':'f', 't':'g', 'u':'h', 'v':'i', 'w':'j', 'x':'k',\n",
        "       'y':'l', 'z':'m', 'A':'N', 'B':'O', 'C':'P', 'D':'Q', 'E':'R', 'F':'S', \n",
        "       'G':'T', 'H':'U', 'I':'V', 'J':'W', 'K':'X', 'L':'Y', 'M':'Z', 'N':'A', \n",
        "       'O':'B', 'P':'C', 'Q':'D', 'R':'E', 'S':'F', 'T':'G', 'U':'H', 'V':'I', \n",
        "       'W':'J', 'X':'K', 'Y':'L', 'Z':'M'}\n",
        "\n",
        "def rot_decoder(x):\n",
        "    new =[]\n",
        "    for i in x:\n",
        "        new.append(d.get(i,i))\n",
        "    print(''.join(new))\n",
        "    \n",
        "rot_decoder('Pnrfne pvcure? V zhpu cersre Pnrfne fnynq!')\n",
        "\n",
        "# Our decoder function can also encode the message since we have 26 characters. But in case if isn't you can use below strategy. \n",
        "def rot_encoder(x):\n",
        "    key_inverse = { v:k for k,v in d.items()} \n",
        "    for i in x:\n",
        "        new.append(d.get(i,i))\n",
        "    print(''.join(new))\n",
        "\n",
        "rot_decoder('Caesar cipher? I much prefer Caesar salad!')"
      ],
      "execution_count": null,
      "outputs": [
        {
          "output_type": "stream",
          "text": [
            "Caesar cipher? I much prefer Caesar salad!\n",
            "Pnrfne pvcure? V zhpu cersre Pnrfne fnynq!\n"
          ],
          "name": "stdout"
        }
      ]
    },
    {
      "cell_type": "code",
      "metadata": {
        "id": "cmXoAi1OGMHa",
        "colab_type": "code",
        "colab": {
          "base_uri": "https://localhost:8080/",
          "height": 451
        },
        "outputId": "a5c6fac4-1920-4b53-990e-2c4b2503d596"
      },
      "source": [
        "help(map)"
      ],
      "execution_count": null,
      "outputs": [
        {
          "output_type": "stream",
          "text": [
            "Help on class map in module builtins:\n",
            "\n",
            "class map(object)\n",
            " |  map(func, *iterables) --> map object\n",
            " |  \n",
            " |  Make an iterator that computes the function using arguments from\n",
            " |  each of the iterables.  Stops when the shortest iterable is exhausted.\n",
            " |  \n",
            " |  Methods defined here:\n",
            " |  \n",
            " |  __getattribute__(self, name, /)\n",
            " |      Return getattr(self, name).\n",
            " |  \n",
            " |  __iter__(self, /)\n",
            " |      Implement iter(self).\n",
            " |  \n",
            " |  __new__(*args, **kwargs) from builtins.type\n",
            " |      Create and return a new object.  See help(type) for accurate signature.\n",
            " |  \n",
            " |  __next__(self, /)\n",
            " |      Implement next(self).\n",
            " |  \n",
            " |  __reduce__(...)\n",
            " |      Return state information for pickling.\n",
            "\n"
          ],
          "name": "stdout"
        }
      ]
    },
    {
      "cell_type": "markdown",
      "metadata": {
        "id": "hrlx0Xug0mZG",
        "colab_type": "text"
      },
      "source": [
        "4-Write a program that maps a list of words into a list of integers representing the lengths of the correponding words. Write it in three different ways: \n",
        "*  1) using the higher order function map() and lambda\n",
        "*  2) using only map()\n",
        "*  3) using list comprehensions."
      ]
    },
    {
      "cell_type": "code",
      "metadata": {
        "id": "kKd29kt70CgR",
        "colab_type": "code",
        "colab": {
          "base_uri": "https://localhost:8080/",
          "height": 69
        },
        "outputId": "619d13b4-c7b4-434a-807a-a065134dae20"
      },
      "source": [
        "l = ['apple', 'orange', 'cat']\n",
        "\n",
        "#1\n",
        "print(list(map( lambda x : len(x), l)))\n",
        "\n",
        "#2\n",
        "print(list(map( len,  l)))\n",
        "\n",
        "#3\n",
        "print([ len(i) for i in l])"
      ],
      "execution_count": null,
      "outputs": [
        {
          "output_type": "stream",
          "text": [
            "[5, 6, 3]\n",
            "[5, 6, 3]\n",
            "[5, 6, 3]\n"
          ],
          "name": "stdout"
        }
      ]
    },
    {
      "cell_type": "markdown",
      "metadata": {
        "id": "0x_6g2OF1XpL",
        "colab_type": "text"
      },
      "source": [
        "5- Represent a small bilingual lexicon as a Python dictionary in the following fashion {\"merry\":\"god\", \"christmas\":\"jul\", \"and\":\"och\", \"happy\":gott\", \"new\":\"nytt\", \"year\":\"år\"} and use it to translate your Christmas cards from English into Swedish. Use the higher order function map() to write a function translate() that takes a list of English words and returns a list of Swedish words.\n",
        "\n",
        "**Hint** : you can use str.split() to return a list of the words in your sentence"
      ]
    },
    {
      "cell_type": "code",
      "metadata": {
        "id": "thZL-gYa1rP4",
        "colab_type": "code",
        "colab": {
          "base_uri": "https://localhost:8080/",
          "height": 208
        },
        "outputId": "a33f0e68-a092-4515-d9d6-01932c6d99f9"
      },
      "source": [
        "help(str.split)"
      ],
      "execution_count": null,
      "outputs": [
        {
          "output_type": "stream",
          "text": [
            "Help on method_descriptor:\n",
            "\n",
            "split(...)\n",
            "    S.split(sep=None, maxsplit=-1) -> list of strings\n",
            "    \n",
            "    Return a list of the words in S, using sep as the\n",
            "    delimiter string.  If maxsplit is given, at most maxsplit\n",
            "    splits are done. If sep is not specified or is None, any\n",
            "    whitespace string is a separator and empty strings are\n",
            "    removed from the result.\n",
            "\n"
          ],
          "name": "stdout"
        }
      ]
    },
    {
      "cell_type": "code",
      "metadata": {
        "id": "T2cNaQv7073R",
        "colab_type": "code",
        "colab": {
          "base_uri": "https://localhost:8080/",
          "height": 52
        },
        "outputId": "ffa31936-8b2a-41e4-fc32-ab362fe0cc1c"
      },
      "source": [
        "def translate(x):\n",
        "    d ={\"merry\":\"god\", \n",
        "        \"christmas\":\"jul\",\n",
        "        \"and\":\"och\", \n",
        "        \"happy\":\"gott\",\n",
        "        \"new\":\"nytt\",\n",
        "        \"year\":\"ar\"}\n",
        "    l = x.split()\n",
        "    print(list(map( lambda x: d[x], l)))\n",
        "    \n",
        "\n",
        "translate(\"merry new christmas and happy new year\")"
      ],
      "execution_count": null,
      "outputs": [
        {
          "output_type": "stream",
          "text": [
            "['merry', 'new', 'christmas', 'and', 'happy', 'new', 'year']\n",
            "['god', 'nytt', 'jul', 'och', 'gott', 'nytt', 'ar']\n"
          ],
          "name": "stdout"
        }
      ]
    },
    {
      "cell_type": "markdown",
      "metadata": {
        "id": "ttECCEH92PF6",
        "colab_type": "text"
      },
      "source": [
        "6- Implement the higher order functions map(), filter()).\n",
        "(They are built-in but writing them yourself may be a good exercise.)"
      ]
    },
    {
      "cell_type": "code",
      "metadata": {
        "id": "zMM1Zw_Y1gnj",
        "colab_type": "code",
        "colab": {}
      },
      "source": [
        "def map1(f, l):\n",
        "    new=[]\n",
        "    for i in l:\n",
        "        new.append(f(i))\n",
        "    return new\n",
        "        \n",
        "    \n",
        "def filter1(f, l):\n",
        "    new =[]\n",
        "    for i in l:\n",
        "        if f(i) == True:\n",
        "            new.append(i)\n",
        "    return new\n"
      ],
      "execution_count": null,
      "outputs": []
    },
    {
      "cell_type": "markdown",
      "metadata": {
        "id": "M3VO27EU3ROo",
        "colab_type": "text"
      },
      "source": [
        "7- Define a function is_palindrome() that recognizes palindromes (i.e. words that look the same written backwards). For example, is_palindrome(\"radar\") should return True."
      ]
    },
    {
      "cell_type": "code",
      "metadata": {
        "id": "Vuvt7E9e2ZIw",
        "colab_type": "code",
        "colab": {
          "base_uri": "https://localhost:8080/",
          "height": 34
        },
        "outputId": "64435217-72bf-4528-a69b-a47c00346ffb"
      },
      "source": [
        "def is_palindrome(x):\n",
        "    if x == x[::-1]:\n",
        "        print(True)\n",
        "    else:\n",
        "        print(False)\n",
        "        \n",
        "is_palindrome(\"aradar\")"
      ],
      "execution_count": null,
      "outputs": [
        {
          "output_type": "stream",
          "text": [
            "False\n"
          ],
          "name": "stdout"
        }
      ]
    },
    {
      "cell_type": "markdown",
      "metadata": {
        "id": "FngOf_sW3Wg3",
        "colab_type": "text"
      },
      "source": [
        "8 - Write a function is_member() that takes a value (i.e. a number, string, etc) x and a list of values a, and returns True if x is a member of a, False otherwise. (Note that this is exactly what the in operator does, but for the sake of the exercise you should pretend Python did not have this operator.)"
      ]
    },
    {
      "cell_type": "code",
      "metadata": {
        "id": "-8hlX1253Xv5",
        "colab_type": "code",
        "colab": {
          "base_uri": "https://localhost:8080/",
          "height": 52
        },
        "outputId": "a2419dd9-acda-461b-e61b-fa5c68352072"
      },
      "source": [
        "def is_member(x, a):\n",
        "    if x in a:\n",
        "        print(True)\n",
        "    else:\n",
        "        print(False)\n",
        "        \n",
        "def is_member2(x,a):\n",
        "    status =0\n",
        "    for i in a:\n",
        "        if x==i:\n",
        "            print(True)\n",
        "            status =1\n",
        "    if status ==0:\n",
        "        print(False)     \n",
        "\n",
        "is_member('c',['a',1,2,3,'b'])\n",
        "is_member2('a',['a',1,2,3,'b'])"
      ],
      "execution_count": null,
      "outputs": [
        {
          "output_type": "stream",
          "text": [
            "False\n",
            "True\n"
          ],
          "name": "stdout"
        }
      ]
    },
    {
      "cell_type": "markdown",
      "metadata": {
        "id": "JiJcXkO43cuE",
        "colab_type": "text"
      },
      "source": [
        "9- Define a function overlapping() that takes two lists and returns True if they have at least one member in common, False otherwise. You may use your is_member() function, or the in operator, but for the sake of the exercise, you should (also) write it using two nested for-loops"
      ]
    },
    {
      "cell_type": "code",
      "metadata": {
        "id": "pZTP0SGt3eQO",
        "colab_type": "code",
        "colab": {
          "base_uri": "https://localhost:8080/",
          "height": 34
        },
        "outputId": "bb1b3c5a-a47f-4d00-c41d-a7cfa5dd2bca"
      },
      "source": [
        "def overlapping(m,n):\n",
        "    l1 =len(m)\n",
        "    l2 = len(n)    \n",
        "    for i in range(l1):\n",
        "        for j in range(l2):\n",
        "            if m[i]==n[j]:\n",
        "                status =1\n",
        "                break\n",
        "        else:\n",
        "            status =0\n",
        "    if status ==1:\n",
        "        print(True)\n",
        "    else:\n",
        "        print(False)\n",
        "         \n",
        "    \n",
        "overlapping(['a','e'], ['c','d'])"
      ],
      "execution_count": null,
      "outputs": [
        {
          "output_type": "stream",
          "text": [
            "False\n"
          ],
          "name": "stdout"
        }
      ]
    },
    {
      "cell_type": "markdown",
      "metadata": {
        "id": "rE0wkgtq4FlR",
        "colab_type": "text"
      },
      "source": [
        "10 - Define a function max_of_three() that takes three numbers as arguments and returns the largest of them.\n",
        "\n",
        "10bis - Suppose we have a much larger number of numbers, or suppose we cannot tell in advance how many they are? Write a function max_in_list() that takes a list of numbers and returns the largest one. "
      ]
    },
    {
      "cell_type": "code",
      "metadata": {
        "id": "TVANcdcC36bR",
        "colab_type": "code",
        "colab": {
          "base_uri": "https://localhost:8080/",
          "height": 52
        },
        "outputId": "71ddc2e3-4a9a-4cae-aae2-19c8067a326f"
      },
      "source": [
        "#10\n",
        "def max_of_three(a,b,c):\n",
        "    if a>b and a>c:\n",
        "        print(a) \n",
        "    elif b>c:\n",
        "        print(b) \n",
        "    else:\n",
        "        print(c) \n",
        "max_of_three(0,15,2)\n",
        "\n",
        "#10bis\n",
        "def max1(l):\n",
        "    max =0\n",
        "    for i in range(len(l)-1):\n",
        "        if l[i] > l[i+1] and l[i]>max:\n",
        "            max = l[i]\n",
        "        elif l[i+1]>max:\n",
        "            max = l[i+1]\n",
        "    print(max)\n",
        "max1([1,2,34,4,6,345])"
      ],
      "execution_count": null,
      "outputs": [
        {
          "output_type": "stream",
          "text": [
            "15\n",
            "345\n"
          ],
          "name": "stdout"
        }
      ]
    },
    {
      "cell_type": "markdown",
      "metadata": {
        "id": "vcbdFF2h42rF",
        "colab_type": "text"
      },
      "source": [
        "\n",
        "11- \n",
        "\"99 Bottles of Beer\" is a traditional song in the United States and Canada. It is popular to sing on long trips, as it has a very repetitive format which is easy to memorize, and can take a long time to sing. The song's simple lyrics are as follows:\n",
        "\n",
        "99 bottles of beer on the wall, 99 bottles of beer.\n",
        "Take one down, pass it around, 98 bottles of beer on the wall.\n",
        "\n",
        "The same verse is repeated, each time with one fewer bottle. The song is completed when the singer or singers reach zero. Your task here is write a Python program capable of generating all the verses of the song.\n"
      ]
    },
    {
      "cell_type": "code",
      "metadata": {
        "id": "oHiEgBVn4gwN",
        "colab_type": "code",
        "colab": {
          "base_uri": "https://localhost:8080/",
          "height": 1000
        },
        "outputId": "27fe812c-b7b4-45db-851d-020d15a0b314"
      },
      "source": [
        "def song():\n",
        "    print('99 bottles of beer on the wall, 99 bottles of beer')\n",
        "    for i in range(99)[::-1]:\n",
        "        print('Take one down, pass it around,' + str(i) +   ' bottles of beer on the wall.')\n",
        "    \n",
        "song()"
      ],
      "execution_count": null,
      "outputs": [
        {
          "output_type": "stream",
          "text": [
            "99 bottles of beer on the wall, 99 bottles of beer\n",
            "Take one down, pass it around,98 bottles of beer on the wall.\n",
            "Take one down, pass it around,97 bottles of beer on the wall.\n",
            "Take one down, pass it around,96 bottles of beer on the wall.\n",
            "Take one down, pass it around,95 bottles of beer on the wall.\n",
            "Take one down, pass it around,94 bottles of beer on the wall.\n",
            "Take one down, pass it around,93 bottles of beer on the wall.\n",
            "Take one down, pass it around,92 bottles of beer on the wall.\n",
            "Take one down, pass it around,91 bottles of beer on the wall.\n",
            "Take one down, pass it around,90 bottles of beer on the wall.\n",
            "Take one down, pass it around,89 bottles of beer on the wall.\n",
            "Take one down, pass it around,88 bottles of beer on the wall.\n",
            "Take one down, pass it around,87 bottles of beer on the wall.\n",
            "Take one down, pass it around,86 bottles of beer on the wall.\n",
            "Take one down, pass it around,85 bottles of beer on the wall.\n",
            "Take one down, pass it around,84 bottles of beer on the wall.\n",
            "Take one down, pass it around,83 bottles of beer on the wall.\n",
            "Take one down, pass it around,82 bottles of beer on the wall.\n",
            "Take one down, pass it around,81 bottles of beer on the wall.\n",
            "Take one down, pass it around,80 bottles of beer on the wall.\n",
            "Take one down, pass it around,79 bottles of beer on the wall.\n",
            "Take one down, pass it around,78 bottles of beer on the wall.\n",
            "Take one down, pass it around,77 bottles of beer on the wall.\n",
            "Take one down, pass it around,76 bottles of beer on the wall.\n",
            "Take one down, pass it around,75 bottles of beer on the wall.\n",
            "Take one down, pass it around,74 bottles of beer on the wall.\n",
            "Take one down, pass it around,73 bottles of beer on the wall.\n",
            "Take one down, pass it around,72 bottles of beer on the wall.\n",
            "Take one down, pass it around,71 bottles of beer on the wall.\n",
            "Take one down, pass it around,70 bottles of beer on the wall.\n",
            "Take one down, pass it around,69 bottles of beer on the wall.\n",
            "Take one down, pass it around,68 bottles of beer on the wall.\n",
            "Take one down, pass it around,67 bottles of beer on the wall.\n",
            "Take one down, pass it around,66 bottles of beer on the wall.\n",
            "Take one down, pass it around,65 bottles of beer on the wall.\n",
            "Take one down, pass it around,64 bottles of beer on the wall.\n",
            "Take one down, pass it around,63 bottles of beer on the wall.\n",
            "Take one down, pass it around,62 bottles of beer on the wall.\n",
            "Take one down, pass it around,61 bottles of beer on the wall.\n",
            "Take one down, pass it around,60 bottles of beer on the wall.\n",
            "Take one down, pass it around,59 bottles of beer on the wall.\n",
            "Take one down, pass it around,58 bottles of beer on the wall.\n",
            "Take one down, pass it around,57 bottles of beer on the wall.\n",
            "Take one down, pass it around,56 bottles of beer on the wall.\n",
            "Take one down, pass it around,55 bottles of beer on the wall.\n",
            "Take one down, pass it around,54 bottles of beer on the wall.\n",
            "Take one down, pass it around,53 bottles of beer on the wall.\n",
            "Take one down, pass it around,52 bottles of beer on the wall.\n",
            "Take one down, pass it around,51 bottles of beer on the wall.\n",
            "Take one down, pass it around,50 bottles of beer on the wall.\n",
            "Take one down, pass it around,49 bottles of beer on the wall.\n",
            "Take one down, pass it around,48 bottles of beer on the wall.\n",
            "Take one down, pass it around,47 bottles of beer on the wall.\n",
            "Take one down, pass it around,46 bottles of beer on the wall.\n",
            "Take one down, pass it around,45 bottles of beer on the wall.\n",
            "Take one down, pass it around,44 bottles of beer on the wall.\n",
            "Take one down, pass it around,43 bottles of beer on the wall.\n",
            "Take one down, pass it around,42 bottles of beer on the wall.\n",
            "Take one down, pass it around,41 bottles of beer on the wall.\n",
            "Take one down, pass it around,40 bottles of beer on the wall.\n",
            "Take one down, pass it around,39 bottles of beer on the wall.\n",
            "Take one down, pass it around,38 bottles of beer on the wall.\n",
            "Take one down, pass it around,37 bottles of beer on the wall.\n",
            "Take one down, pass it around,36 bottles of beer on the wall.\n",
            "Take one down, pass it around,35 bottles of beer on the wall.\n",
            "Take one down, pass it around,34 bottles of beer on the wall.\n",
            "Take one down, pass it around,33 bottles of beer on the wall.\n",
            "Take one down, pass it around,32 bottles of beer on the wall.\n",
            "Take one down, pass it around,31 bottles of beer on the wall.\n",
            "Take one down, pass it around,30 bottles of beer on the wall.\n",
            "Take one down, pass it around,29 bottles of beer on the wall.\n",
            "Take one down, pass it around,28 bottles of beer on the wall.\n",
            "Take one down, pass it around,27 bottles of beer on the wall.\n",
            "Take one down, pass it around,26 bottles of beer on the wall.\n",
            "Take one down, pass it around,25 bottles of beer on the wall.\n",
            "Take one down, pass it around,24 bottles of beer on the wall.\n",
            "Take one down, pass it around,23 bottles of beer on the wall.\n",
            "Take one down, pass it around,22 bottles of beer on the wall.\n",
            "Take one down, pass it around,21 bottles of beer on the wall.\n",
            "Take one down, pass it around,20 bottles of beer on the wall.\n",
            "Take one down, pass it around,19 bottles of beer on the wall.\n",
            "Take one down, pass it around,18 bottles of beer on the wall.\n",
            "Take one down, pass it around,17 bottles of beer on the wall.\n",
            "Take one down, pass it around,16 bottles of beer on the wall.\n",
            "Take one down, pass it around,15 bottles of beer on the wall.\n",
            "Take one down, pass it around,14 bottles of beer on the wall.\n",
            "Take one down, pass it around,13 bottles of beer on the wall.\n",
            "Take one down, pass it around,12 bottles of beer on the wall.\n",
            "Take one down, pass it around,11 bottles of beer on the wall.\n",
            "Take one down, pass it around,10 bottles of beer on the wall.\n",
            "Take one down, pass it around,9 bottles of beer on the wall.\n",
            "Take one down, pass it around,8 bottles of beer on the wall.\n",
            "Take one down, pass it around,7 bottles of beer on the wall.\n",
            "Take one down, pass it around,6 bottles of beer on the wall.\n",
            "Take one down, pass it around,5 bottles of beer on the wall.\n",
            "Take one down, pass it around,4 bottles of beer on the wall.\n",
            "Take one down, pass it around,3 bottles of beer on the wall.\n",
            "Take one down, pass it around,2 bottles of beer on the wall.\n",
            "Take one down, pass it around,1 bottles of beer on the wall.\n",
            "Take one down, pass it around,0 bottles of beer on the wall.\n"
          ],
          "name": "stdout"
        }
      ]
    },
    {
      "cell_type": "markdown",
      "metadata": {
        "id": "uv0_h5fv5TVl",
        "colab_type": "text"
      },
      "source": [
        "12-Define a function generate_n_chars() that takes an integer n and a character c and returns a string, n characters long, consisting only of c:s. For example, generate_n_chars(5,\"x\") should return the string \"xxxxx\". (Python is unusual in that you can actually write an expression 5 * \"x\" that will evaluate to \"xxxxx\". For the sake of the exercise you should ignore that the problem can be solved in this manner.)"
      ]
    },
    {
      "cell_type": "code",
      "metadata": {
        "id": "N5c_x46m4-L7",
        "colab_type": "code",
        "colab": {
          "base_uri": "https://localhost:8080/",
          "height": 34
        },
        "outputId": "58381e1e-9f82-4a6d-b139-ac5be52ca248"
      },
      "source": [
        "def generate_n_chars(n,x):\n",
        "    k=[]\n",
        "    for i in range(n):\n",
        "        k.append(x)\n",
        "    print(''.join(k))\n",
        "    \n",
        "generate_n_chars( 5, 't')"
      ],
      "execution_count": null,
      "outputs": [
        {
          "output_type": "stream",
          "text": [
            "ttttt\n"
          ],
          "name": "stdout"
        }
      ]
    },
    {
      "cell_type": "markdown",
      "metadata": {
        "id": "jkKYO7z96q9A",
        "colab_type": "text"
      },
      "source": [
        "13 - We have an existing dictionary that maps US states to their capitals.\n",
        "1. Print the state capital of Idaho\n",
        "2. Print all states.\n",
        "3. Print all capitals.\n",
        "4. Create a single string 'Alabama -> Montgomery, Alaska -> Juneau, ...'\n",
        "5. Ensure the string you created in 4. is alphabetically sorted by state using the sorted buil-in module\n",
        "7. Now we want to add the reverse look up, given the name of a capital what state\n",
        "is it in?\n",
        "Implement the function def get_state(capital): below so it returns the state.\n"
      ]
    },
    {
      "cell_type": "code",
      "metadata": {
        "id": "B2bosQX25wQN",
        "colab_type": "code",
        "colab": {}
      },
      "source": [
        "import sys\n",
        "\n",
        "STATES_CAPITALS = {\n",
        "    'Alabama' : 'Montgomery',\n",
        "    'Alaska' : 'Juneau',\n",
        "    'Arizona' : 'Phoenix',\n",
        "    'Arkansas': 'Little Rock',\n",
        "    'California' : 'Sacramento',\n",
        "    'Colorado' : 'Denver',\n",
        "    'Connecticut' : 'Hartford',\n",
        "    'Delaware' : 'Dover',\n",
        "    'Florida' : 'Tallahassee',\n",
        "    'Georgia' : 'Atlanta',\n",
        "    'Hawaii' : 'Honolulu',\n",
        "    'Idaho' : 'Boise',\n",
        "    'Illinois' : 'Springfield',\n",
        "    'Indiana' : 'Indianapolis',\n",
        "    'Iowa' : 'Des Moines',\n",
        "    'Kansas' : 'Topeka',\n",
        "    'Kentucky' : 'Frankfort',\n",
        "    'Louisiana' : 'Baton Rouge',\n",
        "    'Maine' : 'Augusta',\n",
        "    'Maryland' : 'Annapolis',\n",
        "    'Massachusetts' : 'Boston',\n",
        "    'Michigan' : 'Lansing',\n",
        "    'Minnesota' : 'Saint Paul',\n",
        "    'Mississippi' : 'Jackson',\n",
        "    'Missouri' : 'Jefferson City',\n",
        "    'Montana' : 'Helena',\n",
        "    'Nebraska' : 'Lincoln',\n",
        "    'Nevada' : 'Carson City',\n",
        "    'New Hampshire' : 'Concord',\n",
        "    'New Jersey' : 'Trenton',\n",
        "    'New Mexico' : 'Santa Fe',\n",
        "    'New York' : 'Albany',\n",
        "    'North Carolina' : 'Raleigh',\n",
        "    'North Dakota' : 'Bismarck',\n",
        "    'Ohio' : 'Columbus',\n",
        "    'Oklahoma' : 'Oklahoma City',\n",
        "    'Oregon' : 'Salem',\n",
        "    'Pennsylvania' : 'Harrisburg',\n",
        "    'Rhode Island' : 'Providence',\n",
        "    'South Carolina' : 'Columbia',\n",
        "    'South Dakota' : 'Pierre',\n",
        "    'Tennessee' : 'Nashville',\n",
        "    'Texas' : 'Austin',\n",
        "    'Utah' : 'Salt Lake City',\n",
        "    'Vermont' : 'Montpelier',\n",
        "    'Virginia' : 'Richmond',\n",
        "    'Washington' : 'Olympia',\n",
        "    'West Virginia' : 'Charleston',\n",
        "    'Wisconsin' : 'Madison',\n",
        "    'Wyoming' : 'Cheyenne',\n",
        "}\n",
        "\n",
        "\n",
        "def capital_of_Idaho():\n",
        "    # Your code here\n",
        "    pass\n",
        "\n",
        "def all_states():\n",
        "    # Your code here\n",
        "    pass\n",
        "\n",
        "def all_capitals():\n",
        "    # Your code here\n",
        "    pass\n",
        "\n",
        "def states_capitals_string():\n",
        "    # Your code here\n",
        "    pass\n",
        "\n",
        "\n",
        "\n",
        "def get_state(capital):\n",
        "    pass"
      ],
      "execution_count": null,
      "outputs": []
    },
    {
      "cell_type": "code",
      "metadata": {
        "id": "xxJ-BdzJ65fo",
        "colab_type": "code",
        "colab": {}
      },
      "source": [
        "def capital_of_Idaho():\n",
        "    return STATES_CAPITALS['Idaho']\n",
        "\n",
        "def all_states():\n",
        "    return STATES_CAPITALS.keys()\n",
        "\n",
        "def all_capitals():\n",
        "    return STATES_CAPITALS.values()\n",
        "\n",
        "def states_capitals_string():\n",
        "    l = []\n",
        "    for k in sorted(STATES_CAPITALS.keys()):\n",
        "        l.append('%s -> %s' % (k, STATES_CAPITALS[k]))\n",
        "    return ', '.join(l)\n",
        "\n",
        "# Pre-compute the reverse lookup, this is done a module import time\n",
        "# What can go wrong here? \n",
        "CAPITALS_STATES = {v : k for k, v in STATES_CAPITALS.items()}\n",
        "\n",
        "def get_state(capital):\n",
        "    \"\"\"A better solution in that we have pre-compute the reverse lookup and\n",
        "    access that to get the capital. This will scale.\n",
        "    We still do not have a good story for duplicate capital names however.\n",
        "    \"\"\"\n",
        "    return CAPITALS_STATES[capital]"
      ],
      "execution_count": null,
      "outputs": []
    },
    {
      "cell_type": "code",
      "metadata": {
        "id": "AhOvIssG7FaE",
        "colab_type": "code",
        "colab": {
          "base_uri": "https://localhost:8080/",
          "height": 39
        },
        "outputId": "cc15db39-5ae0-4852-8bd0-d040357aa4fc"
      },
      "source": [
        "get_state('Juneau')"
      ],
      "execution_count": null,
      "outputs": [
        {
          "output_type": "execute_result",
          "data": {
            "application/vnd.google.colaboratory.intrinsic+json": {
              "type": "string"
            },
            "text/plain": [
              "'Alaska'"
            ]
          },
          "metadata": {
            "tags": []
          },
          "execution_count": 43
        }
      ]
    },
    {
      "cell_type": "code",
      "metadata": {
        "id": "gYOauear7MzF",
        "colab_type": "code",
        "colab": {
          "base_uri": "https://localhost:8080/",
          "height": 110
        },
        "outputId": "8ef5d472-bfd6-40b9-fd06-c9f50205a2bc"
      },
      "source": [
        "states_capitals_string()"
      ],
      "execution_count": null,
      "outputs": [
        {
          "output_type": "execute_result",
          "data": {
            "application/vnd.google.colaboratory.intrinsic+json": {
              "type": "string"
            },
            "text/plain": [
              "'Alabama -> Montgomery, Alaska -> Juneau, Arizona -> Phoenix, Arkansas -> Little Rock, California -> Sacramento, Colorado -> Denver, Connecticut -> Hartford, Delaware -> Dover, Florida -> Tallahassee, Georgia -> Atlanta, Hawaii -> Honolulu, Idaho -> Boise, Illinois -> Springfield, Indiana -> Indianapolis, Iowa -> Des Moines, Kansas -> Topeka, Kentucky -> Frankfort, Louisiana -> Baton Rouge, Maine -> Augusta, Maryland -> Annapolis, Massachusetts -> Boston, Michigan -> Lansing, Minnesota -> Saint Paul, Mississippi -> Jackson, Missouri -> Jefferson City, Montana -> Helena, Nebraska -> Lincoln, Nevada -> Carson City, New Hampshire -> Concord, New Jersey -> Trenton, New Mexico -> Santa Fe, New York -> Albany, North Carolina -> Raleigh, North Dakota -> Bismarck, Ohio -> Columbus, Oklahoma -> Oklahoma City, Oregon -> Salem, Pennsylvania -> Harrisburg, Rhode Island -> Providence, South Carolina -> Columbia, South Dakota -> Pierre, Tennessee -> Nashville, Texas -> Austin, Utah -> Salt Lake City, Vermont -> Montpelier, Virginia -> Richmond, Washington -> Olympia, West Virginia -> Charleston, Wisconsin -> Madison, Wyoming -> Cheyenne'"
            ]
          },
          "metadata": {
            "tags": []
          },
          "execution_count": 44
        }
      ]
    },
    {
      "cell_type": "markdown",
      "metadata": {
        "id": "5XRvVrnT8Ufu",
        "colab_type": "text"
      },
      "source": [
        "14 -  Understanding Args and Kwargs\n",
        "What will be the output from the following function calls\n",
        "\n",
        "\n",
        "\n",
        "```\n",
        "def f(x, y, z):\n",
        "    return (x + y) / float(z)\n",
        "\n",
        "print f(10, 5, 3)\n",
        "\n",
        "x = 20\n",
        "y = 10\n",
        "z = 3\n",
        "\n",
        "# using kwargs\n",
        "print f(x=x, y=y, z=z)\n",
        "\n",
        "# using args and kwargs\n",
        "print f(y, x, z=2)\n",
        "\n",
        "# using args and kwargs out of order\n",
        "print f(z=3, y=x, x=y)\n",
        "\n",
        "# all x\n",
        "print f(z=x, y=x, x=x)\n",
        "\n",
        "\"\"\"\n",
        "With defaults\n",
        "\"\"\"\n",
        "\n",
        "def ff(x=20, y=10, z=3):\n",
        "    # uncomment for debug\n",
        "    # print \"x=%s y=%s, z=%s\" % (x, y, z)\n",
        "    return (x + y) / float(z)\n",
        "\n",
        "print ff(10, 5, 3)\n",
        "\n",
        "# using args\n",
        "print ff(10)\n",
        "\n",
        "# using kwargs\n",
        "print ff(z=10)\n",
        "\n",
        "x = 20\n",
        "print ff(z=x, y=x)\n",
        "```"
      ]
    },
    {
      "cell_type": "code",
      "metadata": {
        "id": "ge8rul6x78nj",
        "colab_type": "code",
        "colab": {
          "base_uri": "https://localhost:8080/",
          "height": 173
        },
        "outputId": "ac522b0b-04cb-4d64-c164-7eb041f63562"
      },
      "source": [
        "def f(x, y, z):\n",
        "    return (x + y + z)\n",
        "\n",
        "print(f(10, 5, 3))\n",
        "\n",
        "18 \n",
        "x = 20\n",
        "y = 10\n",
        "z = 3\n",
        "\n",
        "# using kwargs\n",
        "print(f(x=x, y=y, z=z))\n",
        "33\n",
        "# using args and kwargs\n",
        "print(f(y, x, z=2))\n",
        "32\n",
        "# using args and kwargs out of order\n",
        "print(f(z=3, y=x, x=y))\n",
        "33\n",
        "# all x\n",
        "print(f(z=x, y=x, x=x))\n",
        "60\n",
        "\"\"\"\n",
        "With defaults\n",
        "\"\"\"\n",
        "\n",
        "def ff(x=20, y=10, z=3):\n",
        "    # uncomment for debug\n",
        "    # print \"x=%s y=%s, z=%s\" % (x, y, z)\n",
        "    return (x + y + z)\n",
        "\n",
        "print(ff(10, 5, 3))\n",
        "18\n",
        "# using args\n",
        "print(ff(10))\n",
        "23\n",
        "# using kwargs\n",
        "print(ff(z=10))\n",
        "40\n",
        "x = 20\n",
        "print(ff(z=x, y=x))\n",
        "60"
      ],
      "execution_count": null,
      "outputs": [
        {
          "output_type": "stream",
          "text": [
            "18\n",
            "33\n",
            "32\n",
            "33\n",
            "60\n",
            "18\n",
            "23\n",
            "40\n",
            "60\n"
          ],
          "name": "stdout"
        }
      ]
    },
    {
      "cell_type": "code",
      "metadata": {
        "id": "PivfLXcx8gBj",
        "colab_type": "code",
        "colab": {}
      },
      "source": [
        "\n"
      ],
      "execution_count": null,
      "outputs": []
    }
  ]
}